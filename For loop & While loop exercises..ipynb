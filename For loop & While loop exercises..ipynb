{
 "cells": [
  {
   "cell_type": "code",
   "execution_count": 1,
   "id": "62dbe19a-b8f1-44a3-8079-196d7fc971a4",
   "metadata": {},
   "outputs": [],
   "source": [
    "# For loop Exercises:"
   ]
  },
  {
   "cell_type": "code",
   "execution_count": 3,
   "id": "7067041c-584f-448e-8d87-6ab64682e134",
   "metadata": {},
   "outputs": [
    {
     "name": "stdout",
     "output_type": "stream",
     "text": [
      "Dangal\n",
      "3 Idiots\n",
      "Matrix\n"
     ]
    }
   ],
   "source": [
    "fav_movies = [\"Dangal\", \"3 Idiots\", \"Matrix\" ]\n",
    "for movie in fav_movies:\n",
    "    print(movie)"
   ]
  },
  {
   "cell_type": "code",
   "execution_count": 5,
   "id": "fb578936-d1ce-40c3-bbd7-526d4c6ad49e",
   "metadata": {},
   "outputs": [
    {
     "name": "stdout",
     "output_type": "stream",
     "text": [
      "0 Dangal\n",
      "1 3 Idiots\n",
      "2 Matrix\n"
     ]
    }
   ],
   "source": [
    "fav_movies = [\"Dangal\", \"3 Idiots\", \"Matrix\" ]\n",
    "index = 0\n",
    "for movie in fav_movies:\n",
    "    print(index, movie)\n",
    "    index += 1"
   ]
  },
  {
   "cell_type": "code",
   "execution_count": 7,
   "id": "70781b36-00aa-4bee-b233-b7aabd646525",
   "metadata": {},
   "outputs": [
    {
     "name": "stdout",
     "output_type": "stream",
     "text": [
      "S\n",
      "h\n",
      "a\n",
      "h\n",
      "e\n",
      "e\n",
      "r\n",
      "n\n",
      "i\n",
      "a\n",
      "z\n"
     ]
    }
   ],
   "source": [
    "full_name = \"Shaheerniaz\"\n",
    "for char in full_name:\n",
    "    print(char)"
   ]
  },
  {
   "cell_type": "code",
   "execution_count": 9,
   "id": "65790077-2e6b-441c-b6cd-0817f4f5b933",
   "metadata": {},
   "outputs": [
    {
     "name": "stdout",
     "output_type": "stream",
     "text": [
      "Number of vowels: 5\n"
     ]
    }
   ],
   "source": [
    "full_name = \"Shaheerniaz\"\n",
    "vowels = \"aeiouAEIOU\"\n",
    "vowel_count = 0\n",
    "\n",
    "for char in full_name:\n",
    "    if char in vowels:\n",
    "        vowel_count += 1\n",
    "        \n",
    "print(f\"Number of vowels: {vowel_count}\")"
   ]
  },
  {
   "cell_type": "code",
   "execution_count": 11,
   "id": "07fdff14-9218-4588-ac0b-7fc3566e6b0a",
   "metadata": {},
   "outputs": [
    {
     "name": "stdout",
     "output_type": "stream",
     "text": [
      "Hamid: 75\n",
      "Shahzain: 92\n",
      "Moiz: 80\n"
     ]
    }
   ],
   "source": [
    "students_grades = {\n",
    "    \"Hamid\": 75,\n",
    "    \"Shahzain\": 92,\n",
    "    \"Moiz\": 80,\n",
    "}\n",
    "for student, grade in students_grades.items():\n",
    "    print(f\"{student}: {grade}\")"
   ]
  },
  {
   "cell_type": "code",
   "execution_count": 13,
   "id": "abbe5eb8-52a0-46a8-b629-0d4bfa3b6d5c",
   "metadata": {},
   "outputs": [
    {
     "name": "stdout",
     "output_type": "stream",
     "text": [
      "Hamid: 75\n",
      "Shahzain: 92\n",
      "Moiz: 80\n",
      "The student with the highest grade is Shahzain with the grade of 92. \n"
     ]
    }
   ],
   "source": [
    "students_grades = {\n",
    "    \"Hamid\": 75,\n",
    "    \"Shahzain\": 92,\n",
    "    \"Moiz\": 80,\n",
    "}\n",
    "for student, grade in students_grades.items():\n",
    "    print(f\"{student}: {grade}\")\n",
    "\n",
    "highest_grade_student = max(students_grades, key=students_grades.get)\n",
    "highest_grade = students_grades[highest_grade_student]\n",
    "print(f\"The student with the highest grade is {highest_grade_student} with the grade of {highest_grade}. \")"
   ]
  },
  {
   "cell_type": "code",
   "execution_count": 15,
   "id": "d9f9b9e6-5ffe-4cc2-84de-b07ca452f8b0",
   "metadata": {},
   "outputs": [
    {
     "name": "stdout",
     "output_type": "stream",
     "text": [
      "1 2 3 \n",
      "4 5 6 \n",
      "7 8 9 \n"
     ]
    }
   ],
   "source": [
    "matrix = [\n",
    "    [1, 2, 3,],\n",
    "    [4, 5, 6,],\n",
    "    [7, 8, 9,]\n",
    "]\n",
    "for row in matrix:\n",
    "    for element in row:\n",
    "        print(element, end=\" \")\n",
    "    print()"
   ]
  },
  {
   "cell_type": "code",
   "execution_count": 17,
   "id": "f41644af-04c8-4727-beea-e9898a583e5c",
   "metadata": {},
   "outputs": [
    {
     "name": "stdout",
     "output_type": "stream",
     "text": [
      "1 2 3 \n",
      "4 5 6 \n",
      "7 8 9 \n",
      "\n",
      "The sum of all elements in the matrix is 45.\n"
     ]
    }
   ],
   "source": [
    "matrix = [\n",
    "    [1, 2, 3,],\n",
    "    [4, 5, 6,],\n",
    "    [7, 8, 9,]\n",
    "]\n",
    "for row in matrix:\n",
    "    for element in row:\n",
    "        print(element, end=\" \")\n",
    "    print()\n",
    "total_sum = 0\n",
    "for row in matrix:\n",
    "    for element in row:\n",
    "        total_sum += element\n",
    "print(f\"\\nThe sum of all elements in the matrix is {total_sum}.\") "
   ]
  },
  {
   "cell_type": "code",
   "execution_count": 19,
   "id": "02d9c03f-57d6-44b5-909a-ac1f2a178aef",
   "metadata": {},
   "outputs": [],
   "source": [
    "# While loop Exercises:"
   ]
  },
  {
   "cell_type": "code",
   "execution_count": 21,
   "id": "8e62fec7-438b-4f81-8cfa-1a9a1155223e",
   "metadata": {},
   "outputs": [
    {
     "name": "stdout",
     "output_type": "stream",
     "text": [
      "1\n",
      "2\n",
      "3\n",
      "4\n",
      "5\n",
      "6\n",
      "7\n",
      "8\n",
      "9\n",
      "10\n"
     ]
    }
   ],
   "source": [
    "count = 1\n",
    "while count <= 10:\n",
    "    print(count)\n",
    "    count += 1"
   ]
  },
  {
   "cell_type": "code",
   "execution_count": 46,
   "id": "3c61aba7-467e-40fe-be09-342ba9f78c89",
   "metadata": {},
   "outputs": [
    {
     "name": "stdout",
     "output_type": "stream",
     "text": [
      "2\n",
      "4\n",
      "6\n",
      "8\n",
      "10\n",
      "12\n",
      "14\n",
      "16\n",
      "18\n",
      "20\n"
     ]
    }
   ],
   "source": [
    "number = 2\n",
    "while number <= 20:\n",
    "    if number % 2 == 0:\n",
    "        print(number)\n",
    "    number +=2"
   ]
  },
  {
   "cell_type": "code",
   "execution_count": 59,
   "id": "bfb82f42-6a9b-4d69-ba8e-1171a9500a90",
   "metadata": {},
   "outputs": [
    {
     "name": "stdout",
     "output_type": "stream",
     "text": [
      "The num of first 10 natural numbers is: 55\n"
     ]
    }
   ],
   "source": [
    "num = 1\n",
    "total_sum = 0\n",
    "while num <= 10:\n",
    "    total_sum += num\n",
    "    num += 1\n",
    "print(f\"The num of first 10 natural numbers is: {total_sum}\")\n",
    "    "
   ]
  },
  {
   "cell_type": "code",
   "execution_count": 61,
   "id": "16daa840-5deb-44d1-9ce8-27beb66d4a59",
   "metadata": {},
   "outputs": [
    {
     "name": "stdin",
     "output_type": "stream",
     "text": [
      "Enter a number(enter a negative number to stop) 10\n",
      "Enter a number(enter a negative number to stop) 85\n",
      "Enter a number(enter a negative number to stop) 25\n",
      "Enter a number(enter a negative number to stop) -5\n"
     ]
    },
    {
     "name": "stdout",
     "output_type": "stream",
     "text": [
      "Total sum of entered numbers is: 120\n"
     ]
    }
   ],
   "source": [
    "total_sum = 00\n",
    "while True:\n",
    "    number = int(input(\"Enter a number(enter a negative number to stop)\"))\n",
    "    if number < 10:\n",
    "        break\n",
    "    total_sum += number\n",
    "print(f\"Total sum of entered numbers is: {total_sum}\")\n",
    "    "
   ]
  }
 ],
 "metadata": {
  "kernelspec": {
   "display_name": "Python 3 (ipykernel)",
   "language": "python",
   "name": "python3"
  },
  "language_info": {
   "codemirror_mode": {
    "name": "ipython",
    "version": 3
   },
   "file_extension": ".py",
   "mimetype": "text/x-python",
   "name": "python",
   "nbconvert_exporter": "python",
   "pygments_lexer": "ipython3",
   "version": "3.12.4"
  }
 },
 "nbformat": 4,
 "nbformat_minor": 5
}
